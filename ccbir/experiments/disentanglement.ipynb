{
 "cells": [
  {
   "cell_type": "markdown",
   "metadata": {},
   "source": [
    "## Experiments around the disentanglement of the models' embeddings "
   ]
  },
  {
   "cell_type": "markdown",
   "metadata": {},
   "source": [
    "### VQ-VAE: TSNE"
   ]
  },
  {
   "cell_type": "code",
   "execution_count": null,
   "metadata": {},
   "outputs": [],
   "source": [
    "# TODO: TSNE\n",
    "from ccbir.configuration import config\n",
    "import torch \n",
    "\n",
    "config.pythonpath_fix()\n",
    "\n",
    "def _plot_tsne_static(embedding, labels, beta, perplexity, num_points=1000, n_iter='default'):\n",
    "    #plt.figure(dpi=100)\n",
    "    plt.gca().set_aspect('auto', 'box')\n",
    "    \n",
    "    embedding = torch.as_tensor(embedding)\n",
    "    labels = torch.as_tensor(labels)\n",
    "\n",
    "    # sample without replacement\n",
    "    sample_idxs = torch.randperm(len(embedding))[:num_points]\n",
    "    embedding_sample = torch.index_select(embedding, dim=0, index=sample_idxs) \n",
    "    labels_sample = torch.index_select(labels, dim=0, index=sample_idxs)\n",
    "\n",
    "    for digit in range(0, 9 + 1):\n",
    "        embedding_for_digit = embedding_sample[labels_sample == digit, :]\n",
    "        x = embedding_for_digit[:, 0]\n",
    "        y = embedding_for_digit[:, 1]\n",
    "        plt.scatter(x, y, label=str(digit))\n",
    "    \n",
    "    if n_iter == 'default':\n",
    "        n_iter = 1000 # as per sklearn's default\n",
    "\n",
    "    plt.title(f\"{beta=}, {perplexity=} {n_iter=}\")\n",
    "    plt.legend(loc='center left', bbox_to_anchor=(1, 0.5))\n",
    "    plt.figure()\n",
    "    plt.show()\n",
    " \n",
    "\n",
    "def plot_tsne_static(beta, perplexity=30, recompute_embedding=False, n_iter='default'):\n",
    "    assert isinstance(perplexity, int) \n",
    "    if n_iter == 'default':\n",
    "        pickle_file = vae_path(beta) / f\"z_tsne_embedded_perplexity_{perplexity}.obj\"\n",
    "    else:\n",
    "        pickle_file = vae_path(beta) / f\"z_tsne_embedded_perplexity_{perplexity}_n_iter_{n_iter}.obj\"\n",
    "    \n",
    "    if recompute_embedding or not pickle_file.exists():\n",
    "        model = load_vae_model(beta)\n",
    "        z = model.reparametrize(*model.encode(test_images.to(device)))\n",
    "        z_cpu = z.detach().cpu().numpy()\n",
    "        tsne = (\n",
    "            TSNE(perplexity=perplexity, n_jobs=-1) if n_iter == 'default' else\n",
    "            TSNE(perplexity=perplexity, n_iter=n_iter, n_jobs=-1)\n",
    "        )\n",
    "        z_embedded = tsne.fit_transform(z_cpu)\n",
    "        pickle.dump(z_embedded, open(pickle_file, 'wb+'))\n",
    "    else:\n",
    "        z_embedded = pickle.load(open(pickle_file, 'rb'))\n",
    "    \n",
    "    _plot_tsne_static(z_embedded, test_labels, beta, perplexity, n_iter=n_iter)"
   ]
  }
 ],
 "metadata": {
  "interpreter": {
   "hash": "c8910acf61a0cd15eafda41a70a8efd0a080afdd1c553e83309b1139481b9bc0"
  },
  "kernelspec": {
   "display_name": "Python 3.8.10 ('ccbir_venv': venv)",
   "language": "python",
   "name": "python3"
  },
  "language_info": {
   "codemirror_mode": {
    "name": "ipython",
    "version": 3
   },
   "file_extension": ".py",
   "mimetype": "text/x-python",
   "name": "python",
   "nbconvert_exporter": "python",
   "pygments_lexer": "ipython3",
   "version": "3.8.10"
  },
  "orig_nbformat": 4
 },
 "nbformat": 4,
 "nbformat_minor": 2
}
