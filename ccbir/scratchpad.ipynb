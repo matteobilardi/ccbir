{
 "cells": [
  {
   "cell_type": "code",
   "execution_count": 3,
   "metadata": {},
   "outputs": [],
   "source": [
    "from torchvision import transforms\n",
    "import matplotlib.pyplot as plt\n",
    "import torch\n",
    "from configuration import config\n",
    "config.pythonpath_fix()\n",
    "\n",
    "\n",
    "\n",
    "def pil_from_tensor(tensor):\n",
    "    return transforms.ToPILImage()(tensor)\n",
    "    \n",
    "def tensor_from_pil(img):\n",
    "    return transforms.ToTensor()(img)\n",
    "\n",
    "def show_tensor(tensor_img):\n",
    "    plt.imshow(pil_from_tensor(tensor_img), cmap='gray', vmin=0, vmax=255)"
   ]
  },
  {
   "cell_type": "code",
   "execution_count": 2,
   "metadata": {},
   "outputs": [
    {
     "ename": "NameError",
     "evalue": "name 'dataset' is not defined",
     "output_type": "error",
     "traceback": [
      "\u001b[0;31m---------------------------------------------------------------------------\u001b[0m",
      "\u001b[0;31mNameError\u001b[0m                                 Traceback (most recent call last)",
      "\u001b[1;32m/homes/mb8318/Documents/year4/ccbir/ccbir/scratchpad.ipynb Cell 2'\u001b[0m in \u001b[0;36m<module>\u001b[0;34m\u001b[0m\n\u001b[1;32m      <a href='vscode-notebook-cell://ssh-remote%2B7b22686f73744e616d65223a2267707531382e646f632e69632e61632e756b222c2275736572223a226d6238333138227d/homes/mb8318/Documents/year4/ccbir/ccbir/scratchpad.ipynb#ch0000001vscode-remote?line=4'>5</a>\u001b[0m \u001b[39mimport\u001b[39;00m \u001b[39mtorch\u001b[39;00m\n\u001b[1;32m      <a href='vscode-notebook-cell://ssh-remote%2B7b22686f73744e616d65223a2267707531382e646f632e69632e61632e756b222c2275736572223a226d6238333138227d/homes/mb8318/Documents/year4/ccbir/ccbir/scratchpad.ipynb#ch0000001vscode-remote?line=5'>6</a>\u001b[0m \u001b[39mfrom\u001b[39;00m \u001b[39mtorchvision\u001b[39;00m \u001b[39mimport\u001b[39;00m transforms\n\u001b[0;32m----> <a href='vscode-notebook-cell://ssh-remote%2B7b22686f73744e616d65223a2267707531382e646f632e69632e61632e756b222c2275736572223a226d6238333138227d/homes/mb8318/Documents/year4/ccbir/ccbir/scratchpad.ipynb#ch0000001vscode-remote?line=8'>9</a>\u001b[0m image \u001b[39m=\u001b[39m dataset[\u001b[39m3\u001b[39m][\u001b[39m\"\u001b[39m\u001b[39mimage\u001b[39m\u001b[39m\"\u001b[39m]\n\u001b[1;32m     <a href='vscode-notebook-cell://ssh-remote%2B7b22686f73744e616d65223a2267707531382e646f632e69632e61632e756b222c2275736572223a226d6238333138227d/homes/mb8318/Documents/year4/ccbir/ccbir/scratchpad.ipynb#ch0000001vscode-remote?line=10'>11</a>\u001b[0m morph \u001b[39m=\u001b[39m ImageMorphology(image, scale\u001b[39m=\u001b[39m\u001b[39m16\u001b[39m)\n\u001b[1;32m     <a href='vscode-notebook-cell://ssh-remote%2B7b22686f73744e616d65223a2267707531382e646f632e69632e61632e756b222c2275736572223a226d6238333138227d/homes/mb8318/Documents/year4/ccbir/ccbir/scratchpad.ipynb#ch0000001vscode-remote?line=11'>12</a>\u001b[0m tmp_morphed_img \u001b[39m=\u001b[39m np\u001b[39m.\u001b[39mfloat32(SetThickness(\u001b[39m1\u001b[39m)(morph)) \n",
      "\u001b[0;31mNameError\u001b[0m: name 'dataset' is not defined"
     ]
    }
   ],
   "source": [
    "from deepscm.datasets.morphomnist.transforms import SetThickness, ImageMorphology\n",
    "from torchvision.utils import make_grid\n",
    "import matplotlib.pyplot as plt\n",
    "import numpy as np\n",
    "import torch\n",
    "from torchvision import transforms\n",
    "\n",
    "\n",
    "image = dataset[3][\"image\"]\n",
    "\n",
    "morph = ImageMorphology(image, scale=16)\n",
    "tmp_morphed_img = np.float32(SetThickness(1)(morph)) \n",
    "morphed_img = torch.as_tensor(morph.downscale(tmp_morphed_img))\n",
    "images = torch.cat([image, morphed_img])\n",
    "grid = make_grid(images, m)\n",
    "show_tensor(grid)\n",
    "\n"
   ]
  },
  {
   "cell_type": "code",
   "execution_count": 2,
   "metadata": {},
   "outputs": [
    {
     "ename": "ValueError",
     "evalue": "Usecols do not match columns, columns expected but not found: ['intensity']",
     "output_type": "error",
     "traceback": [
      "\u001b[0;31m---------------------------------------------------------------------------\u001b[0m",
      "\u001b[0;31mValueError\u001b[0m                                Traceback (most recent call last)",
      "\u001b[1;32m/homes/mb8318/Documents/year4/ccbir/ccbir/scratchpad.ipynb Cell 3'\u001b[0m in \u001b[0;36m<module>\u001b[0;34m\u001b[0m\n\u001b[1;32m      <a href='vscode-notebook-cell://ssh-remote%2B7b22686f73744e616d65223a2267707531382e646f632e69632e61632e756b222c2275736572223a226d6238333138227d/homes/mb8318/Documents/year4/ccbir/ccbir/scratchpad.ipynb#ch0000002vscode-remote?line=8'>9</a>\u001b[0m dm \u001b[39m=\u001b[39m MorphoMNISTLikeDataModule()\n\u001b[1;32m     <a href='vscode-notebook-cell://ssh-remote%2B7b22686f73744e616d65223a2267707531382e646f632e69632e61632e756b222c2275736572223a226d6238333138227d/homes/mb8318/Documents/year4/ccbir/ccbir/scratchpad.ipynb#ch0000002vscode-remote?line=9'>10</a>\u001b[0m dm\u001b[39m.\u001b[39mprepare_data()\n\u001b[0;32m---> <a href='vscode-notebook-cell://ssh-remote%2B7b22686f73744e616d65223a2267707531382e646f632e69632e61632e756b222c2275736572223a226d6238333138227d/homes/mb8318/Documents/year4/ccbir/ccbir/scratchpad.ipynb#ch0000002vscode-remote?line=10'>11</a>\u001b[0m dm\u001b[39m.\u001b[39;49msetup()\n\u001b[1;32m     <a href='vscode-notebook-cell://ssh-remote%2B7b22686f73744e616d65223a2267707531382e646f632e69632e61632e756b222c2275736572223a226d6238333138227d/homes/mb8318/Documents/year4/ccbir/ccbir/scratchpad.ipynb#ch0000002vscode-remote?line=11'>12</a>\u001b[0m \u001b[39mprint\u001b[39m(\u001b[39mlen\u001b[39m(dm\u001b[39m.\u001b[39mmnist_train))\n\u001b[1;32m     <a href='vscode-notebook-cell://ssh-remote%2B7b22686f73744e616d65223a2267707531382e646f632e69632e61632e756b222c2275736572223a226d6238333138227d/homes/mb8318/Documents/year4/ccbir/ccbir/scratchpad.ipynb#ch0000002vscode-remote?line=12'>13</a>\u001b[0m data_loader \u001b[39m=\u001b[39m dm\u001b[39m.\u001b[39mtest_dataloader()\n",
      "File \u001b[0;32m/vol/bitbucket/mb8318/ccbir_venv/lib/python3.8/site-packages/pytorch_lightning/core/datamodule.py:474\u001b[0m, in \u001b[0;36mLightningDataModule._track_data_hook_calls.<locals>.wrapped_fn\u001b[0;34m(*args, **kwargs)\u001b[0m\n\u001b[1;32m    <a href='file:///vol/bitbucket/mb8318/ccbir_venv/lib/python3.8/site-packages/pytorch_lightning/core/datamodule.py?line=468'>469</a>\u001b[0m     rank_zero_deprecation(\n\u001b[1;32m    <a href='file:///vol/bitbucket/mb8318/ccbir_venv/lib/python3.8/site-packages/pytorch_lightning/core/datamodule.py?line=469'>470</a>\u001b[0m         \u001b[39mf\u001b[39m\u001b[39m\"\u001b[39m\u001b[39mDataModule.\u001b[39m\u001b[39m{\u001b[39;00mname\u001b[39m}\u001b[39;00m\u001b[39m has already been called, so it will not be called again. \u001b[39m\u001b[39m\"\u001b[39m\n\u001b[1;32m    <a href='file:///vol/bitbucket/mb8318/ccbir_venv/lib/python3.8/site-packages/pytorch_lightning/core/datamodule.py?line=470'>471</a>\u001b[0m         \u001b[39mf\u001b[39m\u001b[39m\"\u001b[39m\u001b[39mIn v1.6 this behavior will change to always call DataModule.\u001b[39m\u001b[39m{\u001b[39;00mname\u001b[39m}\u001b[39;00m\u001b[39m.\u001b[39m\u001b[39m\"\u001b[39m\n\u001b[1;32m    <a href='file:///vol/bitbucket/mb8318/ccbir_venv/lib/python3.8/site-packages/pytorch_lightning/core/datamodule.py?line=471'>472</a>\u001b[0m     )\n\u001b[1;32m    <a href='file:///vol/bitbucket/mb8318/ccbir_venv/lib/python3.8/site-packages/pytorch_lightning/core/datamodule.py?line=472'>473</a>\u001b[0m \u001b[39melse\u001b[39;00m:\n\u001b[0;32m--> <a href='file:///vol/bitbucket/mb8318/ccbir_venv/lib/python3.8/site-packages/pytorch_lightning/core/datamodule.py?line=473'>474</a>\u001b[0m     fn(\u001b[39m*\u001b[39;49margs, \u001b[39m*\u001b[39;49m\u001b[39m*\u001b[39;49mkwargs)\n",
      "File \u001b[0;32m~/Documents/year4/ccbir/ccbir/data.py:437\u001b[0m, in \u001b[0;36mMorphoMNISTLikeDataModule.setup\u001b[0;34m(self, stage)\u001b[0m\n\u001b[1;32m    <a href='file:///~/Documents/year4/ccbir/ccbir/data.py?line=403'>404</a>\u001b[0m \u001b[39mdef\u001b[39;00m \u001b[39msetup\u001b[39m(\u001b[39mself\u001b[39m, stage: Optional[\u001b[39mstr\u001b[39m] \u001b[39m=\u001b[39m \u001b[39mNone\u001b[39;00m):\n\u001b[1;32m    <a href='file:///~/Documents/year4/ccbir/ccbir/data.py?line=404'>405</a>\u001b[0m \n\u001b[1;32m    <a href='file:///~/Documents/year4/ccbir/ccbir/data.py?line=405'>406</a>\u001b[0m     \u001b[39m# ISSUES TO ADDRESS:\u001b[39;00m\n\u001b[0;32m   (...)\u001b[0m\n\u001b[1;32m    <a href='file:///~/Documents/year4/ccbir/ccbir/data.py?line=423'>424</a>\u001b[0m \n\u001b[1;32m    <a href='file:///~/Documents/year4/ccbir/ccbir/data.py?line=424'>425</a>\u001b[0m     \u001b[39m# --------------------------------\u001b[39;00m\n\u001b[1;32m    <a href='file:///~/Documents/year4/ccbir/ccbir/data.py?line=426'>427</a>\u001b[0m     columns \u001b[39m=\u001b[39m [\n\u001b[1;32m    <a href='file:///~/Documents/year4/ccbir/ccbir/data.py?line=427'>428</a>\u001b[0m         \u001b[39m# 'area',\u001b[39;00m\n\u001b[1;32m    <a href='file:///~/Documents/year4/ccbir/ccbir/data.py?line=428'>429</a>\u001b[0m         \u001b[39m# 'height',\u001b[39;00m\n\u001b[0;32m   (...)\u001b[0m\n\u001b[1;32m    <a href='file:///~/Documents/year4/ccbir/ccbir/data.py?line=433'>434</a>\u001b[0m         \u001b[39m'\u001b[39m\u001b[39mthickness\u001b[39m\u001b[39m'\u001b[39m,\n\u001b[1;32m    <a href='file:///~/Documents/year4/ccbir/ccbir/data.py?line=434'>435</a>\u001b[0m     ]\n\u001b[0;32m--> <a href='file:///~/Documents/year4/ccbir/ccbir/data.py?line=436'>437</a>\u001b[0m     mnist_train \u001b[39m=\u001b[39m MorphoMNISTLike(\n\u001b[1;32m    <a href='file:///~/Documents/year4/ccbir/ccbir/data.py?line=437'>438</a>\u001b[0m         \u001b[39mself\u001b[39;49m\u001b[39m.\u001b[39;49mdata_dir, train\u001b[39m=\u001b[39;49m\u001b[39mTrue\u001b[39;49;00m, columns\u001b[39m=\u001b[39;49mcolumns\n\u001b[1;32m    <a href='file:///~/Documents/year4/ccbir/ccbir/data.py?line=438'>439</a>\u001b[0m     )\n\u001b[1;32m    <a href='file:///~/Documents/year4/ccbir/ccbir/data.py?line=439'>440</a>\u001b[0m     \u001b[39mself\u001b[39m\u001b[39m.\u001b[39mmnist_test \u001b[39m=\u001b[39m MorphoMNISTLike(\n\u001b[1;32m    <a href='file:///~/Documents/year4/ccbir/ccbir/data.py?line=440'>441</a>\u001b[0m         \u001b[39mself\u001b[39m\u001b[39m.\u001b[39mdata_dir, train\u001b[39m=\u001b[39m\u001b[39mFalse\u001b[39;00m, columns\u001b[39m=\u001b[39mcolumns\n\u001b[1;32m    <a href='file:///~/Documents/year4/ccbir/ccbir/data.py?line=441'>442</a>\u001b[0m     )\n\u001b[1;32m    <a href='file:///~/Documents/year4/ccbir/ccbir/data.py?line=443'>444</a>\u001b[0m     \u001b[39mself\u001b[39m\u001b[39m.\u001b[39m_normalize_transform \u001b[39m=\u001b[39m invertransforms\u001b[39m.\u001b[39mCompose([\n\u001b[1;32m    <a href='file:///~/Documents/year4/ccbir/ccbir/data.py?line=444'>445</a>\u001b[0m         \u001b[39m# insert explicit gray channel and convert to float in range [0,1]\u001b[39;00m\n\u001b[1;32m    <a href='file:///~/Documents/year4/ccbir/ccbir/data.py?line=445'>446</a>\u001b[0m         \u001b[39m# as typical for pytorch images\u001b[39;00m\n\u001b[0;32m   (...)\u001b[0m\n\u001b[1;32m    <a href='file:///~/Documents/year4/ccbir/ccbir/data.py?line=452'>453</a>\u001b[0m         invertransforms\u001b[39m.\u001b[39mNormalize(mean\u001b[39m=\u001b[39m\u001b[39m0.5\u001b[39m, std\u001b[39m=\u001b[39m\u001b[39m0.5\u001b[39m)\n\u001b[1;32m    <a href='file:///~/Documents/year4/ccbir/ccbir/data.py?line=453'>454</a>\u001b[0m     ])\n",
      "File \u001b[0;32m~/Documents/year4/ccbir/submodules/deepscm/deepscm/datasets/morphomnist/__init__.py:79\u001b[0m, in \u001b[0;36mMorphoMNISTLike.__init__\u001b[0;34m(self, root_dir, train, columns)\u001b[0m\n\u001b[1;32m     <a href='file:///~/Documents/year4/ccbir/submodules/deepscm/deepscm/datasets/morphomnist/__init__.py?line=76'>77</a>\u001b[0m \u001b[39mself\u001b[39m\u001b[39m.\u001b[39mroot_dir \u001b[39m=\u001b[39m root_dir\n\u001b[1;32m     <a href='file:///~/Documents/year4/ccbir/submodules/deepscm/deepscm/datasets/morphomnist/__init__.py?line=77'>78</a>\u001b[0m \u001b[39mself\u001b[39m\u001b[39m.\u001b[39mtrain \u001b[39m=\u001b[39m train\n\u001b[0;32m---> <a href='file:///~/Documents/year4/ccbir/submodules/deepscm/deepscm/datasets/morphomnist/__init__.py?line=78'>79</a>\u001b[0m images, labels, metrics_df \u001b[39m=\u001b[39m load_morphomnist_like(root_dir, train, columns)\n\u001b[1;32m     <a href='file:///~/Documents/year4/ccbir/submodules/deepscm/deepscm/datasets/morphomnist/__init__.py?line=79'>80</a>\u001b[0m \u001b[39mself\u001b[39m\u001b[39m.\u001b[39mimages \u001b[39m=\u001b[39m torch\u001b[39m.\u001b[39mas_tensor(images)\n\u001b[1;32m     <a href='file:///~/Documents/year4/ccbir/submodules/deepscm/deepscm/datasets/morphomnist/__init__.py?line=80'>81</a>\u001b[0m \u001b[39mself\u001b[39m\u001b[39m.\u001b[39mlabels \u001b[39m=\u001b[39m torch\u001b[39m.\u001b[39mas_tensor(labels)\n",
      "File \u001b[0;32m~/Documents/year4/ccbir/submodules/deepscm/deepscm/datasets/morphomnist/__init__.py:43\u001b[0m, in \u001b[0;36mload_morphomnist_like\u001b[0;34m(root_dir, train, columns)\u001b[0m\n\u001b[1;32m     <a href='file:///~/Documents/year4/ccbir/submodules/deepscm/deepscm/datasets/morphomnist/__init__.py?line=40'>41</a>\u001b[0m \u001b[39melse\u001b[39;00m:\n\u001b[1;32m     <a href='file:///~/Documents/year4/ccbir/submodules/deepscm/deepscm/datasets/morphomnist/__init__.py?line=41'>42</a>\u001b[0m     usecols \u001b[39m=\u001b[39m columns\n\u001b[0;32m---> <a href='file:///~/Documents/year4/ccbir/submodules/deepscm/deepscm/datasets/morphomnist/__init__.py?line=42'>43</a>\u001b[0m metrics \u001b[39m=\u001b[39m pd\u001b[39m.\u001b[39;49mread_csv(metrics_path, usecols\u001b[39m=\u001b[39;49musecols, index_col\u001b[39m=\u001b[39;49m\u001b[39m'\u001b[39;49m\u001b[39mindex\u001b[39;49m\u001b[39m'\u001b[39;49m)\n\u001b[1;32m     <a href='file:///~/Documents/year4/ccbir/submodules/deepscm/deepscm/datasets/morphomnist/__init__.py?line=43'>44</a>\u001b[0m \u001b[39mreturn\u001b[39;00m images, labels, metrics\n",
      "File \u001b[0;32m/vol/bitbucket/mb8318/ccbir_venv/lib/python3.8/site-packages/pandas/io/parsers.py:605\u001b[0m, in \u001b[0;36mread_csv\u001b[0;34m(filepath_or_buffer, sep, delimiter, header, names, index_col, usecols, squeeze, prefix, mangle_dupe_cols, dtype, engine, converters, true_values, false_values, skipinitialspace, skiprows, skipfooter, nrows, na_values, keep_default_na, na_filter, verbose, skip_blank_lines, parse_dates, infer_datetime_format, keep_date_col, date_parser, dayfirst, cache_dates, iterator, chunksize, compression, thousands, decimal, lineterminator, quotechar, quoting, doublequote, escapechar, comment, encoding, dialect, error_bad_lines, warn_bad_lines, delim_whitespace, low_memory, memory_map, float_precision, storage_options)\u001b[0m\n\u001b[1;32m    <a href='file:///vol/bitbucket/mb8318/ccbir_venv/lib/python3.8/site-packages/pandas/io/parsers.py?line=599'>600</a>\u001b[0m kwds_defaults \u001b[39m=\u001b[39m _refine_defaults_read(\n\u001b[1;32m    <a href='file:///vol/bitbucket/mb8318/ccbir_venv/lib/python3.8/site-packages/pandas/io/parsers.py?line=600'>601</a>\u001b[0m     dialect, delimiter, delim_whitespace, engine, sep, defaults\u001b[39m=\u001b[39m{\u001b[39m\"\u001b[39m\u001b[39mdelimiter\u001b[39m\u001b[39m\"\u001b[39m: \u001b[39m\"\u001b[39m\u001b[39m,\u001b[39m\u001b[39m\"\u001b[39m}\n\u001b[1;32m    <a href='file:///vol/bitbucket/mb8318/ccbir_venv/lib/python3.8/site-packages/pandas/io/parsers.py?line=601'>602</a>\u001b[0m )\n\u001b[1;32m    <a href='file:///vol/bitbucket/mb8318/ccbir_venv/lib/python3.8/site-packages/pandas/io/parsers.py?line=602'>603</a>\u001b[0m kwds\u001b[39m.\u001b[39mupdate(kwds_defaults)\n\u001b[0;32m--> <a href='file:///vol/bitbucket/mb8318/ccbir_venv/lib/python3.8/site-packages/pandas/io/parsers.py?line=604'>605</a>\u001b[0m \u001b[39mreturn\u001b[39;00m _read(filepath_or_buffer, kwds)\n",
      "File \u001b[0;32m/vol/bitbucket/mb8318/ccbir_venv/lib/python3.8/site-packages/pandas/io/parsers.py:457\u001b[0m, in \u001b[0;36m_read\u001b[0;34m(filepath_or_buffer, kwds)\u001b[0m\n\u001b[1;32m    <a href='file:///vol/bitbucket/mb8318/ccbir_venv/lib/python3.8/site-packages/pandas/io/parsers.py?line=453'>454</a>\u001b[0m _validate_names(kwds\u001b[39m.\u001b[39mget(\u001b[39m\"\u001b[39m\u001b[39mnames\u001b[39m\u001b[39m\"\u001b[39m, \u001b[39mNone\u001b[39;00m))\n\u001b[1;32m    <a href='file:///vol/bitbucket/mb8318/ccbir_venv/lib/python3.8/site-packages/pandas/io/parsers.py?line=455'>456</a>\u001b[0m \u001b[39m# Create the parser.\u001b[39;00m\n\u001b[0;32m--> <a href='file:///vol/bitbucket/mb8318/ccbir_venv/lib/python3.8/site-packages/pandas/io/parsers.py?line=456'>457</a>\u001b[0m parser \u001b[39m=\u001b[39m TextFileReader(filepath_or_buffer, \u001b[39m*\u001b[39;49m\u001b[39m*\u001b[39;49mkwds)\n\u001b[1;32m    <a href='file:///vol/bitbucket/mb8318/ccbir_venv/lib/python3.8/site-packages/pandas/io/parsers.py?line=458'>459</a>\u001b[0m \u001b[39mif\u001b[39;00m chunksize \u001b[39mor\u001b[39;00m iterator:\n\u001b[1;32m    <a href='file:///vol/bitbucket/mb8318/ccbir_venv/lib/python3.8/site-packages/pandas/io/parsers.py?line=459'>460</a>\u001b[0m     \u001b[39mreturn\u001b[39;00m parser\n",
      "File \u001b[0;32m/vol/bitbucket/mb8318/ccbir_venv/lib/python3.8/site-packages/pandas/io/parsers.py:814\u001b[0m, in \u001b[0;36mTextFileReader.__init__\u001b[0;34m(self, f, engine, **kwds)\u001b[0m\n\u001b[1;32m    <a href='file:///vol/bitbucket/mb8318/ccbir_venv/lib/python3.8/site-packages/pandas/io/parsers.py?line=810'>811</a>\u001b[0m \u001b[39mif\u001b[39;00m \u001b[39m\"\u001b[39m\u001b[39mhas_index_names\u001b[39m\u001b[39m\"\u001b[39m \u001b[39min\u001b[39;00m kwds:\n\u001b[1;32m    <a href='file:///vol/bitbucket/mb8318/ccbir_venv/lib/python3.8/site-packages/pandas/io/parsers.py?line=811'>812</a>\u001b[0m     \u001b[39mself\u001b[39m\u001b[39m.\u001b[39moptions[\u001b[39m\"\u001b[39m\u001b[39mhas_index_names\u001b[39m\u001b[39m\"\u001b[39m] \u001b[39m=\u001b[39m kwds[\u001b[39m\"\u001b[39m\u001b[39mhas_index_names\u001b[39m\u001b[39m\"\u001b[39m]\n\u001b[0;32m--> <a href='file:///vol/bitbucket/mb8318/ccbir_venv/lib/python3.8/site-packages/pandas/io/parsers.py?line=813'>814</a>\u001b[0m \u001b[39mself\u001b[39m\u001b[39m.\u001b[39m_engine \u001b[39m=\u001b[39m \u001b[39mself\u001b[39;49m\u001b[39m.\u001b[39;49m_make_engine(\u001b[39mself\u001b[39;49m\u001b[39m.\u001b[39;49mengine)\n",
      "File \u001b[0;32m/vol/bitbucket/mb8318/ccbir_venv/lib/python3.8/site-packages/pandas/io/parsers.py:1045\u001b[0m, in \u001b[0;36mTextFileReader._make_engine\u001b[0;34m(self, engine)\u001b[0m\n\u001b[1;32m   <a href='file:///vol/bitbucket/mb8318/ccbir_venv/lib/python3.8/site-packages/pandas/io/parsers.py?line=1040'>1041</a>\u001b[0m     \u001b[39mraise\u001b[39;00m \u001b[39mValueError\u001b[39;00m(\n\u001b[1;32m   <a href='file:///vol/bitbucket/mb8318/ccbir_venv/lib/python3.8/site-packages/pandas/io/parsers.py?line=1041'>1042</a>\u001b[0m         \u001b[39mf\u001b[39m\u001b[39m\"\u001b[39m\u001b[39mUnknown engine: \u001b[39m\u001b[39m{\u001b[39;00mengine\u001b[39m}\u001b[39;00m\u001b[39m (valid options are \u001b[39m\u001b[39m{\u001b[39;00mmapping\u001b[39m.\u001b[39mkeys()\u001b[39m}\u001b[39;00m\u001b[39m)\u001b[39m\u001b[39m\"\u001b[39m\n\u001b[1;32m   <a href='file:///vol/bitbucket/mb8318/ccbir_venv/lib/python3.8/site-packages/pandas/io/parsers.py?line=1042'>1043</a>\u001b[0m     )\n\u001b[1;32m   <a href='file:///vol/bitbucket/mb8318/ccbir_venv/lib/python3.8/site-packages/pandas/io/parsers.py?line=1043'>1044</a>\u001b[0m \u001b[39m# error: Too many arguments for \"ParserBase\"\u001b[39;00m\n\u001b[0;32m-> <a href='file:///vol/bitbucket/mb8318/ccbir_venv/lib/python3.8/site-packages/pandas/io/parsers.py?line=1044'>1045</a>\u001b[0m \u001b[39mreturn\u001b[39;00m mapping[engine](\u001b[39mself\u001b[39;49m\u001b[39m.\u001b[39;49mf, \u001b[39m*\u001b[39;49m\u001b[39m*\u001b[39;49m\u001b[39mself\u001b[39;49m\u001b[39m.\u001b[39;49moptions)\n",
      "File \u001b[0;32m/vol/bitbucket/mb8318/ccbir_venv/lib/python3.8/site-packages/pandas/io/parsers.py:1944\u001b[0m, in \u001b[0;36mCParserWrapper.__init__\u001b[0;34m(self, src, **kwds)\u001b[0m\n\u001b[1;32m   <a href='file:///vol/bitbucket/mb8318/ccbir_venv/lib/python3.8/site-packages/pandas/io/parsers.py?line=1939'>1940</a>\u001b[0m \u001b[39massert\u001b[39;00m \u001b[39mself\u001b[39m\u001b[39m.\u001b[39morig_names \u001b[39mis\u001b[39;00m \u001b[39mnot\u001b[39;00m \u001b[39mNone\u001b[39;00m\n\u001b[1;32m   <a href='file:///vol/bitbucket/mb8318/ccbir_venv/lib/python3.8/site-packages/pandas/io/parsers.py?line=1940'>1941</a>\u001b[0m \u001b[39mif\u001b[39;00m \u001b[39mself\u001b[39m\u001b[39m.\u001b[39musecols_dtype \u001b[39m==\u001b[39m \u001b[39m\"\u001b[39m\u001b[39mstring\u001b[39m\u001b[39m\"\u001b[39m \u001b[39mand\u001b[39;00m \u001b[39mnot\u001b[39;00m \u001b[39mset\u001b[39m(usecols)\u001b[39m.\u001b[39missubset(\n\u001b[1;32m   <a href='file:///vol/bitbucket/mb8318/ccbir_venv/lib/python3.8/site-packages/pandas/io/parsers.py?line=1941'>1942</a>\u001b[0m     \u001b[39mself\u001b[39m\u001b[39m.\u001b[39morig_names\n\u001b[1;32m   <a href='file:///vol/bitbucket/mb8318/ccbir_venv/lib/python3.8/site-packages/pandas/io/parsers.py?line=1942'>1943</a>\u001b[0m ):\n\u001b[0;32m-> <a href='file:///vol/bitbucket/mb8318/ccbir_venv/lib/python3.8/site-packages/pandas/io/parsers.py?line=1943'>1944</a>\u001b[0m     _validate_usecols_names(usecols, \u001b[39mself\u001b[39;49m\u001b[39m.\u001b[39;49morig_names)\n\u001b[1;32m   <a href='file:///vol/bitbucket/mb8318/ccbir_venv/lib/python3.8/site-packages/pandas/io/parsers.py?line=1945'>1946</a>\u001b[0m \u001b[39mif\u001b[39;00m \u001b[39mlen\u001b[39m(\u001b[39mself\u001b[39m\u001b[39m.\u001b[39mnames) \u001b[39m>\u001b[39m \u001b[39mlen\u001b[39m(usecols):\n\u001b[1;32m   <a href='file:///vol/bitbucket/mb8318/ccbir_venv/lib/python3.8/site-packages/pandas/io/parsers.py?line=1946'>1947</a>\u001b[0m     \u001b[39mself\u001b[39m\u001b[39m.\u001b[39mnames \u001b[39m=\u001b[39m [\n\u001b[1;32m   <a href='file:///vol/bitbucket/mb8318/ccbir_venv/lib/python3.8/site-packages/pandas/io/parsers.py?line=1947'>1948</a>\u001b[0m         n\n\u001b[1;32m   <a href='file:///vol/bitbucket/mb8318/ccbir_venv/lib/python3.8/site-packages/pandas/io/parsers.py?line=1948'>1949</a>\u001b[0m         \u001b[39mfor\u001b[39;00m i, n \u001b[39min\u001b[39;00m \u001b[39menumerate\u001b[39m(\u001b[39mself\u001b[39m\u001b[39m.\u001b[39mnames)\n\u001b[1;32m   <a href='file:///vol/bitbucket/mb8318/ccbir_venv/lib/python3.8/site-packages/pandas/io/parsers.py?line=1949'>1950</a>\u001b[0m         \u001b[39mif\u001b[39;00m (i \u001b[39min\u001b[39;00m usecols \u001b[39mor\u001b[39;00m n \u001b[39min\u001b[39;00m usecols)\n\u001b[1;32m   <a href='file:///vol/bitbucket/mb8318/ccbir_venv/lib/python3.8/site-packages/pandas/io/parsers.py?line=1950'>1951</a>\u001b[0m     ]\n",
      "File \u001b[0;32m/vol/bitbucket/mb8318/ccbir_venv/lib/python3.8/site-packages/pandas/io/parsers.py:1157\u001b[0m, in \u001b[0;36m_validate_usecols_names\u001b[0;34m(usecols, names)\u001b[0m\n\u001b[1;32m   <a href='file:///vol/bitbucket/mb8318/ccbir_venv/lib/python3.8/site-packages/pandas/io/parsers.py?line=1154'>1155</a>\u001b[0m missing \u001b[39m=\u001b[39m [c \u001b[39mfor\u001b[39;00m c \u001b[39min\u001b[39;00m usecols \u001b[39mif\u001b[39;00m c \u001b[39mnot\u001b[39;00m \u001b[39min\u001b[39;00m names]\n\u001b[1;32m   <a href='file:///vol/bitbucket/mb8318/ccbir_venv/lib/python3.8/site-packages/pandas/io/parsers.py?line=1155'>1156</a>\u001b[0m \u001b[39mif\u001b[39;00m \u001b[39mlen\u001b[39m(missing) \u001b[39m>\u001b[39m \u001b[39m0\u001b[39m:\n\u001b[0;32m-> <a href='file:///vol/bitbucket/mb8318/ccbir_venv/lib/python3.8/site-packages/pandas/io/parsers.py?line=1156'>1157</a>\u001b[0m     \u001b[39mraise\u001b[39;00m \u001b[39mValueError\u001b[39;00m(\n\u001b[1;32m   <a href='file:///vol/bitbucket/mb8318/ccbir_venv/lib/python3.8/site-packages/pandas/io/parsers.py?line=1157'>1158</a>\u001b[0m         \u001b[39mf\u001b[39m\u001b[39m\"\u001b[39m\u001b[39mUsecols do not match columns, columns expected but not found: \u001b[39m\u001b[39m{\u001b[39;00mmissing\u001b[39m}\u001b[39;00m\u001b[39m\"\u001b[39m\n\u001b[1;32m   <a href='file:///vol/bitbucket/mb8318/ccbir_venv/lib/python3.8/site-packages/pandas/io/parsers.py?line=1158'>1159</a>\u001b[0m     )\n\u001b[1;32m   <a href='file:///vol/bitbucket/mb8318/ccbir_venv/lib/python3.8/site-packages/pandas/io/parsers.py?line=1160'>1161</a>\u001b[0m \u001b[39mreturn\u001b[39;00m usecols\n",
      "\u001b[0;31mValueError\u001b[0m: Usecols do not match columns, columns expected but not found: ['intensity']"
     ]
    }
   ],
   "source": [
    "from ccbir.data import MorphoMNISTLikeDataModule\n",
    "from ccbir.models import VQVAE\n",
    "from torchvision.utils import make_grid\n",
    "from torchvision import transforms\n",
    "\n",
    "model = VQVAE.load_from_checkpoint(\n",
    "    '/homes/mb8318/Documents/year4/ccbir/assets/synth-mnist-epoch=023-val_loss=0.0085513.ckpt')\n",
    "\n",
    "dm = MorphoMNISTLikeDataModule()\n",
    "dm.prepare_data()\n",
    "dm.setup()\n",
    "print(len(dm.mnist_train))\n",
    "data_loader = dm.test_dataloader()\n",
    "batch = next(iter(data_loader))\n",
    "images = batch['image'][:16]\n",
    "print(images.shape)\n",
    "#show_tensor(make_grid(images, range=(0., 1.)))\n",
    "\n",
    "reconstructions, _z_e, _z_q = model(images)\n",
    "#reconstructions=torch.max(reconstructions, torch.tensor(0))\n",
    "#reconstructions=torch.abs(reconstructions)\n",
    "show_tensor(make_grid(torch.cat([images, reconstructions]), normalize=True, range=(-1,1)))\n",
    "\n",
    "unprocessed=batch['image'][0]\n"
   ]
  },
  {
   "cell_type": "code",
   "execution_count": 4,
   "metadata": {},
   "outputs": [
    {
     "data": {
      "text/plain": [
       "{'a': 1, 'b': 2}"
      ]
     },
     "execution_count": 4,
     "metadata": {},
     "output_type": "execute_result"
    }
   ],
   "source": [
    "import pandas as pd\n",
    "\n",
    "df = pd.DataFrame(\n",
    "    [\n",
    "        [1, 2], \n",
    "        [3, 4]\n",
    "    ],\n",
    "    columns=['a', 'b']\n",
    ")\n",
    "df.iloc[0].to_dict()\n",
    "#df.to_dict(orient='records')"
   ]
  },
  {
   "cell_type": "code",
   "execution_count": 4,
   "metadata": {},
   "outputs": [
    {
     "name": "stderr",
     "output_type": "stream",
     "text": [
      "/homes/mb8318/Documents/year4/ccbir/submodules/deepscm/deepscm/datasets/morphomnist/__init__.py:80: UserWarning: The given NumPy array is not writeable, and PyTorch does not support non-writeable tensors. This means you can write to the underlying (supposedly non-writeable) NumPy array using the tensor. You may want to copy the array to protect its data or make it writeable before converting it to a tensor. This type of warning will be suppressed for the rest of this program. (Triggered internally at  ../torch/csrc/utils/tensor_numpy.cpp:189.)\n",
      "  self.images = torch.as_tensor(images)\n"
     ]
    },
    {
     "name": "stdout",
     "output_type": "stream",
     "text": [
      "Generating train dataset for perturbation<class 'deepscm.morphomnist.perturb.Swelling'>\n"
     ]
    },
    {
     "name": "stderr",
     "output_type": "stream",
     "text": [
      "100%|##########| 60000/60000 [11:53<00:00, 84.04img/s] \n"
     ]
    },
    {
     "name": "stdout",
     "output_type": "stream",
     "text": [
      "{'image': <PIL.Image.Image image mode=L size=28x28 at 0x7F9097CA2280>, 'label': tensor(0, dtype=torch.uint8), 'perturbations_args': {'strength': 3.0, 'radius': 7.0}}\n"
     ]
    },
    {
     "data": {
      "text/plain": [
       "<matplotlib.image.AxesImage at 0x7f9099289910>"
      ]
     },
     "execution_count": 4,
     "metadata": {},
     "output_type": "execute_result"
    },
    {
     "data": {
      "image/png": "[encoded data removed]",
      "text/plain": [
       "<Figure size 432x288 with 1 Axes>"
      ]
     },
     "metadata": {
      "needs_background": "light"
     },
     "output_type": "display_data"
    }
   ],
   "source": [
    "from ccbir.data.morphomnist.dataset import PerturbedMorphoMNIST, SwollenMorphoMNIST, FracturedMorphoMNIST\n",
    "from deepscm.datasets.morphomnist import MorphoMNISTLike\n",
    "\n",
    "test_data = MorphoMNISTLike(str(config.original_mnist_data_path), train=False)\n",
    "test_data_perturbed = SwollenMorphoMNIST(train=True)\n",
    "#train_data_perturbed = PerturbedMorphoMNIST(Swelling, perturbation_sampler=SwellingSampler(), train=True)\n",
    "\n",
    "print(test_data_perturbed[1])\n",
    "plt.imshow(test_data_perturbed[1]['image'], cmap='gray')\n",
    "\n"
   ]
  },
  {
   "cell_type": "code",
   "execution_count": null,
   "metadata": {},
   "outputs": [],
   "source": []
  }
 ],
 "metadata": {
  "interpreter": {
   "hash": "c8910acf61a0cd15eafda41a70a8efd0a080afdd1c553e83309b1139481b9bc0"
  },
  "kernelspec": {
   "display_name": "Python 3.8.10 ('ccbir_venv')",
   "language": "python",
   "name": "python3"
  },
  "language_info": {
   "codemirror_mode": {
    "name": "ipython",
    "version": 3
   },
   "file_extension": ".py",
   "mimetype": "text/x-python",
   "name": "python",
   "nbconvert_exporter": "python",
   "pygments_lexer": "ipython3",
   "version": "3.8.10"
  },
  "orig_nbformat": 4
 },
 "nbformat": 4,
 "nbformat_minor": 2
}
