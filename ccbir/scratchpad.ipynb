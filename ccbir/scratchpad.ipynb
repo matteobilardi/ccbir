{
 "cells": [
  {
   "cell_type": "code",
   "execution_count": 1,
   "metadata": {},
   "outputs": [],
   "source": [
    "from torchvision import transforms\n",
    "import matplotlib.pyplot as plt\n",
    "import torch\n",
    "from configuration import config\n",
    "config.pythonpath_fix()\n",
    "\n",
    "\n",
    "\n",
    "def pil_from_tensor(tensor):\n",
    "    return transforms.ToPILImage()(tensor)\n",
    "    \n",
    "def tensor_from_pil(img):\n",
    "    return transforms.ToTensor()(img)\n",
    "\n",
    "def show_tensor(tensor_img):\n",
    "    plt.imshow(pil_from_tensor(tensor_img), cmap='gray', vmin=0, vmax=255)"
   ]
  },
  {
   "cell_type": "code",
   "execution_count": 10,
   "metadata": {},
   "outputs": [
    {
     "ename": "NameError",
     "evalue": "name 'dataset' is not defined",
     "output_type": "error",
     "traceback": [
      "\u001b[0;31m---------------------------------------------------------------------------\u001b[0m",
      "\u001b[0;31mNameError\u001b[0m                                 Traceback (most recent call last)",
      "Input \u001b[0;32mIn [10]\u001b[0m, in \u001b[0;36m<module>\u001b[0;34m\u001b[0m\n\u001b[1;32m      5\u001b[0m \u001b[39mimport\u001b[39;00m \u001b[39mtorch\u001b[39;00m\n\u001b[1;32m      6\u001b[0m \u001b[39mfrom\u001b[39;00m \u001b[39mtorchvision\u001b[39;00m \u001b[39mimport\u001b[39;00m transforms\n\u001b[0;32m----> 9\u001b[0m image \u001b[39m=\u001b[39m dataset[\u001b[39m3\u001b[39m][\u001b[39m\"\u001b[39m\u001b[39mimage\u001b[39m\u001b[39m\"\u001b[39m]\n\u001b[1;32m     11\u001b[0m morph \u001b[39m=\u001b[39m ImageMorphology(image, scale\u001b[39m=\u001b[39m\u001b[39m16\u001b[39m)\n\u001b[1;32m     12\u001b[0m tmp_morphed_img \u001b[39m=\u001b[39m np\u001b[39m.\u001b[39mfloat32(SetThickness(\u001b[39m1\u001b[39m)(morph)) \n",
      "\u001b[0;31mNameError\u001b[0m: name 'dataset' is not defined"
     ]
    }
   ],
   "source": [
    "from deepscm.datasets.morphomnist.transforms import SetThickness, ImageMorphology\n",
    "from torchvision.utils import make_grid\n",
    "import matplotlib.pyplot as plt\n",
    "import numpy as np\n",
    "import torch\n",
    "from torchvision import transforms\n",
    "\n",
    "\n",
    "image = dataset[3][\"image\"]\n",
    "\n",
    "morph = ImageMorphology(image, scale=16)\n",
    "tmp_morphed_img = np.float32(SetThickness(1)(morph)) \n",
    "morphed_img = torch.as_tensor(morph.downscale(tmp_morphed_img))\n",
    "images = torch.cat([image, morphed_img])\n",
    "grid = make_grid(images, m)\n",
    "show_tensor(grid)\n",
    "\n"
   ]
  },
  {
   "cell_type": "code",
   "execution_count": 15,
   "metadata": {},
   "outputs": [
    {
     "name": "stdout",
     "output_type": "stream",
     "text": [
      "54000\n",
      "torch.Size([2, 1, 28, 28])\n"
     ]
    },
    {
     "data": {
      "image/png": "[encoded data removed]",
      "text/plain": [
       "<Figure size 432x288 with 1 Axes>"
      ]
     },
     "metadata": {
      "needs_background": "light"
     },
     "output_type": "display_data"
    }
   ],
   "source": [
    "from ccbir.data import MorphoMNISTLikeDataModule\n",
    "from ccbir.models import VQVAE\n",
    "from torchvision.utils import make_grid\n",
    "from torchvision import transforms\n",
    "\n",
    "model = VQVAE.load_from_checkpoint(\n",
    "    '/homes/mb8318/Documents/year4/ccbir/assets/synth-mnist-epoch=023-val_loss=0.0085513.ckpt')\n",
    "\n",
    "dm = MorphoMNISTLikeDataModule()\n",
    "dm.prepare_data()\n",
    "dm.setup()\n",
    "print(len(dm.mnist_train))\n",
    "data_loader = dm.test_dataloader()\n",
    "batch = next(iter(data_loader))\n",
    "images = batch['image'][:2]\n",
    "print(images.shape)\n",
    "#show_tensor(make_grid(images, range=(0., 1.)))\n",
    "\n",
    "reconstructions, _z_e, _z_q = model(images)\n",
    "#reconstructions=torch.max(reconstructions, torch.tensor(0))\n",
    "#reconstructions=torch.abs(reconstructions)\n",
    "show_tensor(make_grid(torch.cat([images, reconstructions]), normalize=True, range=(-1,1)))\n",
    "\n",
    "unprocessed=batch['image'][0]\n"
   ]
  },
  {
   "cell_type": "code",
   "execution_count": null,
   "metadata": {},
   "outputs": [],
   "source": []
  }
 ],
 "metadata": {
  "interpreter": {
   "hash": "c8910acf61a0cd15eafda41a70a8efd0a080afdd1c553e83309b1139481b9bc0"
  },
  "kernelspec": {
   "display_name": "Python 3.8.10 ('ccbir_venv')",
   "language": "python",
   "name": "python3"
  },
  "language_info": {
   "codemirror_mode": {
    "name": "ipython",
    "version": 3
   },
   "file_extension": ".py",
   "mimetype": "text/x-python",
   "name": "python",
   "nbconvert_exporter": "python",
   "pygments_lexer": "ipython3",
   "version": "3.8.10"
  },
  "orig_nbformat": 4
 },
 "nbformat": 4,
 "nbformat_minor": 2
}
